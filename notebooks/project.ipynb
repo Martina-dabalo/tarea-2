{
 "cells": [
  {
   "metadata": {},
   "cell_type": "markdown",
   "source": "# Práctica de solicitud de API",
   "id": "4ba9f8e77c1ed76d"
  },
  {
   "metadata": {
    "ExecuteTime": {
     "end_time": "2025-09-15T23:45:11.968673Z",
     "start_time": "2025-09-15T23:45:11.954581Z"
    }
   },
   "cell_type": "code",
   "source": "import json",
   "id": "cc3af81d56474387",
   "outputs": [],
   "execution_count": 59
  },
  {
   "metadata": {},
   "cell_type": "markdown",
   "source": "#### Instalar Spotipy",
   "id": "4e681af2d8bf6b25"
  },
  {
   "metadata": {
    "ExecuteTime": {
     "end_time": "2025-09-15T23:46:14.058964Z",
     "start_time": "2025-09-15T23:46:11.583001Z"
    }
   },
   "cell_type": "code",
   "source": "pip install spotipy --upgrade",
   "id": "537f24b9d2d3a0a",
   "outputs": [
    {
     "name": "stdout",
     "output_type": "stream",
     "text": [
      "Requirement already satisfied: spotipy in c:\\users\\marti\\pycharmprojects\\tarea-2\\.venv\\lib\\site-packages (2.25.1)\n",
      "Requirement already satisfied: redis>=3.5.3 in c:\\users\\marti\\pycharmprojects\\tarea-2\\.venv\\lib\\site-packages (from spotipy) (6.4.0)\n",
      "Requirement already satisfied: requests>=2.25.0 in c:\\users\\marti\\pycharmprojects\\tarea-2\\.venv\\lib\\site-packages (from spotipy) (2.32.5)\n",
      "Requirement already satisfied: urllib3>=1.26.0 in c:\\users\\marti\\pycharmprojects\\tarea-2\\.venv\\lib\\site-packages (from spotipy) (2.5.0)\n",
      "Requirement already satisfied: charset_normalizer<4,>=2 in c:\\users\\marti\\pycharmprojects\\tarea-2\\.venv\\lib\\site-packages (from requests>=2.25.0->spotipy) (3.4.3)\n",
      "Requirement already satisfied: idna<4,>=2.5 in c:\\users\\marti\\pycharmprojects\\tarea-2\\.venv\\lib\\site-packages (from requests>=2.25.0->spotipy) (3.10)\n",
      "Requirement already satisfied: certifi>=2017.4.17 in c:\\users\\marti\\pycharmprojects\\tarea-2\\.venv\\lib\\site-packages (from requests>=2.25.0->spotipy) (2025.8.3)\n",
      "Note: you may need to restart the kernel to use updated packages.\n"
     ]
    }
   ],
   "execution_count": 62
  },
  {
   "metadata": {},
   "cell_type": "markdown",
   "source": "#### Actualizarlo...",
   "id": "c1ca499cfb2dcf9c"
  },
  {
   "metadata": {
    "ExecuteTime": {
     "end_time": "2025-09-15T23:45:26.146604Z",
     "start_time": "2025-09-15T23:45:23.804549Z"
    }
   },
   "cell_type": "code",
   "source": "pip install --upgrade pip",
   "id": "ee28ec4fdd98ce1c",
   "outputs": [
    {
     "name": "stdout",
     "output_type": "stream",
     "text": [
      "Requirement already satisfied: pip in c:\\users\\marti\\pycharmprojects\\tarea-2\\.venv\\lib\\site-packages (25.2)\n",
      "Note: you may need to restart the kernel to use updated packages.\n"
     ]
    }
   ],
   "execution_count": 61
  },
  {
   "metadata": {},
   "cell_type": "markdown",
   "source": [
    "### Variables del entorno\n",
    "Crea un archivo con el nombre _**.env**_ en el directorio raíz del proyecto.\n",
    "\n",
    "Agregar el siguiente código para leer las variables del entorno..."
   ],
   "id": "661d14683c526809"
  },
  {
   "metadata": {
    "ExecuteTime": {
     "end_time": "2025-09-15T23:46:36.002765Z",
     "start_time": "2025-09-15T23:46:35.978912Z"
    }
   },
   "cell_type": "code",
   "source": [
    "import os\n",
    "from dotenv import load_dotenv"
   ],
   "id": "73a2fb06c6925aad",
   "outputs": [],
   "execution_count": 63
  },
  {
   "metadata": {
    "ExecuteTime": {
     "end_time": "2025-09-15T23:46:37.620705Z",
     "start_time": "2025-09-15T23:46:37.585925Z"
    }
   },
   "cell_type": "code",
   "source": [
    "load_dotenv()\n",
    "client_id = os.getenv(\"CLIENT_ID\")\n",
    "client_secret = os.getenv('CLIENT_SECRET')"
   ],
   "id": "438eb7cbcb27fbd",
   "outputs": [],
   "execution_count": 64
  },
  {
   "metadata": {},
   "cell_type": "markdown",
   "source": [
    "### Conectar Spotipy con la API\n",
    "Utilizando el código brindado por el profesor..."
   ],
   "id": "8ba220632da32c4b"
  },
  {
   "metadata": {
    "ExecuteTime": {
     "end_time": "2025-09-15T23:46:39.255590Z",
     "start_time": "2025-09-15T23:46:39.202818Z"
    }
   },
   "cell_type": "code",
   "source": [
    "import spotipy\n",
    "from spotipy.oauth2 import SpotifyClientCredentials\n",
    "\n",
    "auth_manager = SpotifyClientCredentials(client_id=client_id, client_secret=client_secret)\n",
    "spotify = spotipy.Spotify(auth_manager=auth_manager)"
   ],
   "id": "c2fada1bb011f9ed",
   "outputs": [],
   "execution_count": 65
  },
  {
   "metadata": {},
   "cell_type": "markdown",
   "source": [
    "# TAREA:\n",
    "\n",
    "De tu artista favorito recupera el **top 10** de sus canciones, generando una lista de diccionarios que incluyen las claves 'song', 'popularity' y 'duration'. Para ello, tendrás que buscar el ID del artista."
   ],
   "id": "319da0d5f7bf50f9"
  },
  {
   "metadata": {},
   "cell_type": "code",
   "source": [
    "quevedo_id = '52iwsT98xCoGgiGntTiR7K'\n",
    "\n",
    "results = spotify.artist_top_tracks(quevedo_id, country = 'UY') # Según referencias de API\n",
    "results\n"
   ],
   "id": "a64678d0ac73dbe8",
   "outputs": [],
   "execution_count": null
  },
  {
   "metadata": {},
   "cell_type": "markdown",
   "source": "### Crear el diccionario",
   "id": "4efa52bdfbd75725"
  },
  {
   "metadata": {
    "ExecuteTime": {
     "end_time": "2025-09-15T23:46:43.388284Z",
     "start_time": "2025-09-15T23:46:43.360736Z"
    }
   },
   "cell_type": "code",
   "source": [
    "tracks = []\n",
    "for track in results['tracks']:\n",
    "    info_track = {}\n",
    "    info_track['song']= track['name']\n",
    "    info_track['popularity']= track['popularity']\n",
    "    info_track['duration']= track['duration_ms']\n",
    "    tracks.append(info_track)\n",
    "\n",
    "tracks"
   ],
   "id": "56dcfa2decb5a5fb",
   "outputs": [
    {
     "data": {
      "text/plain": [
       "[{'song': 'YO y TÚ', 'popularity': 90, 'duration': 198153},\n",
       " {'song': 'SOLEAO', 'popularity': 77, 'duration': 218305},\n",
       " {'song': 'TUCHAT', 'popularity': 81, 'duration': 221224},\n",
       " {'song': 'Columbia', 'popularity': 81, 'duration': 186000},\n",
       " {'song': 'Quevedo: Bzrp Music Sessions, Vol. 52',\n",
       "  'popularity': 80,\n",
       "  'duration': 198937},\n",
       " {'song': 'Still Luvin', 'popularity': 73, 'duration': 246974},\n",
       " {'song': 'PERO TÚ', 'popularity': 74, 'duration': 183480},\n",
       " {'song': 'VISTA AL MAR', 'popularity': 76, 'duration': 180672},\n",
       " {'song': 'GRAN VÍA', 'popularity': 74, 'duration': 213528},\n",
       " {'song': 'HALO', 'popularity': 70, 'duration': 181261}]"
      ]
     },
     "execution_count": 66,
     "metadata": {},
     "output_type": "execute_result"
    }
   ],
   "execution_count": 66
  },
  {
   "metadata": {},
   "cell_type": "markdown",
   "source": "#### Diccionario reducido. Utilizando list comprehesion, segun tutorial",
   "id": "bc6089045b9deccc"
  },
  {
   "metadata": {
    "ExecuteTime": {
     "end_time": "2025-09-15T23:46:46.306177Z",
     "start_time": "2025-09-15T23:46:46.285402Z"
    }
   },
   "cell_type": "code",
   "source": [
    "tracks = []\n",
    "for track in results['tracks']:\n",
    "    info_track = {'song': track['name'], 'popularity': track['popularity'], 'duration': track['duration_ms']}\n",
    "    tracks.append(info_track)\n",
    "\n",
    "tracks"
   ],
   "id": "2b233a700f712442",
   "outputs": [
    {
     "data": {
      "text/plain": [
       "[{'song': 'YO y TÚ', 'popularity': 90, 'duration': 198153},\n",
       " {'song': 'SOLEAO', 'popularity': 77, 'duration': 218305},\n",
       " {'song': 'TUCHAT', 'popularity': 81, 'duration': 221224},\n",
       " {'song': 'Columbia', 'popularity': 81, 'duration': 186000},\n",
       " {'song': 'Quevedo: Bzrp Music Sessions, Vol. 52',\n",
       "  'popularity': 80,\n",
       "  'duration': 198937},\n",
       " {'song': 'Still Luvin', 'popularity': 73, 'duration': 246974},\n",
       " {'song': 'PERO TÚ', 'popularity': 74, 'duration': 183480},\n",
       " {'song': 'VISTA AL MAR', 'popularity': 76, 'duration': 180672},\n",
       " {'song': 'GRAN VÍA', 'popularity': 74, 'duration': 213528},\n",
       " {'song': 'HALO', 'popularity': 70, 'duration': 181261}]"
      ]
     },
     "execution_count": 67,
     "metadata": {},
     "output_type": "execute_result"
    }
   ],
   "execution_count": 67
  },
  {
   "metadata": {},
   "cell_type": "markdown",
   "source": "#### Exportar la librería a un archivo json",
   "id": "19c6c2c56b3be111"
  },
  {
   "metadata": {
    "ExecuteTime": {
     "end_time": "2025-09-15T23:46:48.369073Z",
     "start_time": "2025-09-15T23:46:48.363645Z"
    }
   },
   "cell_type": "code",
   "source": [
    "with open('tracks.json', 'w') as outfile:\n",
    "    json.dump(tracks, outfile, indent=4, ensure_ascii=False) #ensure_asii=False, para conservar acentos, ya que son canciones en español"
   ],
   "id": "a4eb251e5f4c0631",
   "outputs": [],
   "execution_count": 68
  }
 ],
 "metadata": {
  "kernelspec": {
   "display_name": "Python 3",
   "language": "python",
   "name": "python3"
  },
  "language_info": {
   "codemirror_mode": {
    "name": "ipython",
    "version": 2
   },
   "file_extension": ".py",
   "mimetype": "text/x-python",
   "name": "python",
   "nbconvert_exporter": "python",
   "pygments_lexer": "ipython2",
   "version": "2.7.6"
  }
 },
 "nbformat": 4,
 "nbformat_minor": 5
}
