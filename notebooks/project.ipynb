{
 "cells": [
  {
   "metadata": {},
   "cell_type": "markdown",
   "source": "# Práctica de solicitud de API",
   "id": "4ba9f8e77c1ed76d"
  },
  {
   "metadata": {},
   "cell_type": "code",
   "source": "import json",
   "id": "cc3af81d56474387",
   "outputs": [],
   "execution_count": null
  },
  {
   "metadata": {},
   "cell_type": "markdown",
   "source": "#### Instalar Spotipy",
   "id": "4e681af2d8bf6b25"
  },
  {
   "metadata": {},
   "cell_type": "code",
   "source": "pip install spotipy --upgrade # Según API web de Spotipy",
   "id": "537f24b9d2d3a0a",
   "outputs": [],
   "execution_count": null
  },
  {
   "metadata": {},
   "cell_type": "markdown",
   "source": "#### Actualizarlo...",
   "id": "c1ca499cfb2dcf9c"
  },
  {
   "metadata": {},
   "cell_type": "code",
   "source": "pip install --upgrade pip",
   "id": "ee28ec4fdd98ce1c",
   "outputs": [],
   "execution_count": null
  },
  {
   "metadata": {},
   "cell_type": "markdown",
   "source": [
    "### Variables del entorno\n",
    "Crea un archivo con el nombre _**.env**_ en el directorio raíz del proyecto.\n",
    "\n",
    "Agregar el siguiente código para leer las variables del entorno..."
   ],
   "id": "661d14683c526809"
  },
  {
   "metadata": {},
   "cell_type": "code",
   "source": [
    "import os\n",
    "from dotenv import load_dotenv"
   ],
   "id": "73a2fb06c6925aad",
   "outputs": [],
   "execution_count": null
  },
  {
   "metadata": {},
   "cell_type": "code",
   "source": [
    "load_dotenv()\n",
    "client_id = os.getenv(\"CLIENT_ID\")\n",
    "client_secret = os.getenv('CLIENT_SECRET')"
   ],
   "id": "438eb7cbcb27fbd",
   "outputs": [],
   "execution_count": null
  },
  {
   "metadata": {},
   "cell_type": "markdown",
   "source": [
    "### Conectar Spotipy con la API\n",
    "Utilizando el código brindado por el profesor..."
   ],
   "id": "8ba220632da32c4b"
  },
  {
   "metadata": {},
   "cell_type": "code",
   "source": [
    "import spotipy\n",
    "from spotipy.oauth2 import SpotifyClientCredentials\n",
    "\n",
    "auth_manager = SpotifyClientCredentials(client_id=client_id, client_secret=client_secret)\n",
    "spotify = spotipy.Spotify(auth_manager=auth_manager)"
   ],
   "id": "c2fada1bb011f9ed",
   "outputs": [],
   "execution_count": null
  },
  {
   "metadata": {},
   "cell_type": "markdown",
   "source": [
    "# TAREA:\n",
    "\n",
    "De tu artista favorito recupera el **top 10** de sus canciones, generando una lista de diccionarios que incluyen las claves 'song', 'popularity' y 'duration'. Para ello, tendrás que buscar el ID del artista."
   ],
   "id": "319da0d5f7bf50f9"
  },
  {
   "metadata": {},
   "cell_type": "code",
   "source": [
    "quevedo_id = '52iwsT98xCoGgiGntTiR7K'\n",
    "\n",
    "results = spotify.artist_top_tracks(quevedo_id, country = 'UY') # Según referencias de API\n",
    "results\n"
   ],
   "id": "a64678d0ac73dbe8",
   "outputs": [],
   "execution_count": null
  },
  {
   "metadata": {},
   "cell_type": "markdown",
   "source": "### Crear el diccionario",
   "id": "4efa52bdfbd75725"
  },
  {
   "metadata": {},
   "cell_type": "code",
   "source": [
    "tracks = []\n",
    "for track in results['tracks']:\n",
    "    info_track = {}\n",
    "    info_track['song']= track['name']\n",
    "    info_track['popularity']= track['popularity']\n",
    "    info_track['duration']= track['duration_ms']\n",
    "    tracks.append(info_track)\n",
    "\n",
    "tracks"
   ],
   "id": "56dcfa2decb5a5fb",
   "outputs": [],
   "execution_count": null
  },
  {
   "metadata": {},
   "cell_type": "markdown",
   "source": "#### Diccionario reducido. Utilizando list comprehesion, segun tutorial",
   "id": "bc6089045b9deccc"
  },
  {
   "metadata": {},
   "cell_type": "code",
   "source": [
    "tracks = []\n",
    "for track in results['tracks']:\n",
    "    info_track = {'song': track['name'], 'popularity': track['popularity'], 'duration': track['duration_ms']}\n",
    "    tracks.append(info_track)\n",
    "\n",
    "tracks"
   ],
   "id": "2b233a700f712442",
   "outputs": [],
   "execution_count": null
  },
  {
   "metadata": {},
   "cell_type": "markdown",
   "source": "#### Exportar la librería a un archivo json",
   "id": "19c6c2c56b3be111"
  },
  {
   "metadata": {},
   "cell_type": "code",
   "source": [
    "with open('tracks.json', 'w') as outfile:\n",
    "    json.dump(tracks, outfile, indent=4, ensure_ascii=False) #ensure_asii=False, para conservar acentos, ya que son canciones en español"
   ],
   "id": "a4eb251e5f4c0631",
   "outputs": [],
   "execution_count": null
  }
 ],
 "metadata": {
  "kernelspec": {
   "display_name": "Python 3",
   "language": "python",
   "name": "python3"
  },
  "language_info": {
   "codemirror_mode": {
    "name": "ipython",
    "version": 2
   },
   "file_extension": ".py",
   "mimetype": "text/x-python",
   "name": "python",
   "nbconvert_exporter": "python",
   "pygments_lexer": "ipython2",
   "version": "2.7.6"
  }
 },
 "nbformat": 4,
 "nbformat_minor": 5
}
